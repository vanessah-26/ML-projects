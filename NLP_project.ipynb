{
 "cells": [
  {
   "cell_type": "markdown",
   "metadata": {},
   "source": [
    "# Lab 8: Define and Solve an ML Problem of Your Choosing"
   ]
  },
  {
   "cell_type": "code",
   "execution_count": 1,
   "metadata": {},
   "outputs": [],
   "source": [
    "import pandas as pd\n",
    "import numpy as np\n",
    "import os \n",
    "import matplotlib.pyplot as plt\n",
    "import seaborn as sns"
   ]
  },
  {
   "cell_type": "markdown",
   "metadata": {},
   "source": [
    "## Part 1: Load Data  "
   ]
  },
  {
   "cell_type": "code",
   "execution_count": 3,
   "metadata": {
    "scrolled": true
   },
   "outputs": [
    {
     "name": "stdout",
     "output_type": "stream",
     "text": [
      "Train emotion data:\n",
      "                                                     Text  Emotion\n",
      "0                                i didnt feel humiliated  sadness\n",
      "1      i can go from feeling so hopeless to so damned...  sadness\n",
      "2       im grabbing a minute to post i feel greedy wrong    anger\n",
      "3      i am ever feeling nostalgic about the fireplac...     love\n",
      "4                                   i am feeling grouchy    anger\n",
      "...                                                  ...      ...\n",
      "15995  i just had a very brief time in the beanbag an...  sadness\n",
      "15996  i am now turning and i feel pathetic that i am...  sadness\n",
      "15997                     i feel strong and good overall      joy\n",
      "15998  i feel like this was such a rude comment and i...    anger\n",
      "15999  i know a lot but i feel so stupid because i ca...  sadness\n",
      "\n",
      "[16000 rows x 2 columns]\n",
      "\n",
      "Test emotion data:\n",
      "                                                    Text  Emotion\n",
      "0     im feeling rather rotten so im not very ambiti...  sadness\n",
      "1             im updating my blog because i feel shitty  sadness\n",
      "2     i never make her separate from me because i do...  sadness\n",
      "3     i left with my bouquet of red and yellow tulip...      joy\n",
      "4       i was feeling a little vain when i did this one  sadness\n",
      "...                                                 ...      ...\n",
      "1995  i just keep feeling like someone is being unki...    anger\n",
      "1996  im feeling a little cranky negative after this...    anger\n",
      "1997  i feel that i am useful to my people and that ...      joy\n",
      "1998  im feeling more comfortable with derby i feel ...      joy\n",
      "1999  i feel all weird when i have to meet w people ...     fear\n",
      "\n",
      "[2000 rows x 2 columns]\n",
      "\n",
      "Validation emotion data:\n",
      "                                                    Text  Emotion\n",
      "0     im feeling quite sad and sorry for myself but ...  sadness\n",
      "1     i feel like i am still looking at a blank canv...  sadness\n",
      "2                        i feel like a faithful servant     love\n",
      "3                     i am just feeling cranky and blue    anger\n",
      "4     i can have for a treat or if i am feeling festive      joy\n",
      "...                                                 ...      ...\n",
      "1995  im having ssa examination tomorrow in the morn...  sadness\n",
      "1996  i constantly worry about their fight against n...      joy\n",
      "1997  i feel its important to share this info for th...      joy\n",
      "1998  i truly feel that if you are passionate enough...      joy\n",
      "1999  i feel like i just wanna buy any cute make up ...      joy\n",
      "\n",
      "[2000 rows x 2 columns]\n"
     ]
    }
   ],
   "source": [
    "train_emo_file = os.path.join(os.getcwd(), \"Vanessa_emoData\", \"train.txt\")\n",
    "test_emo_file = os.path.join(os.getcwd(), \"Vanessa_emoData\", \"test.txt\")\n",
    "val_emo_file = os.path.join(os.getcwd(), \"Vanessa_emoData\", \"val.txt\")\n",
    "\n",
    "\n",
    "train_df = pd.read_csv(train_emo_file, sep = ';', header = None, names = ['Text', 'Emotion'])\n",
    "test_df = pd.read_csv(test_emo_file, sep = ';', header = None, names = ['Text', 'Emotion'])\n",
    "val_df = pd.read_csv(val_emo_file, sep = ';', header = None, names = ['Text', 'Emotion'])\n",
    "\n",
    "# merged_df = pd.concat([train_emo, test_emo, val_emo], ignore_index = True)\n",
    "# merged_df\n",
    "\n",
    "print(\"Train emotion data:\\n\", train_df)\n",
    "print(\"\\nTest emotion data:\\n\", test_df)\n",
    "print(\"\\nValidation emotion data:\\n\", val_df)\n"
   ]
  },
  {
   "cell_type": "markdown",
   "metadata": {},
   "source": [
    "## Part 2: Define ML Problem"
   ]
  },
  {
   "cell_type": "markdown",
   "metadata": {},
   "source": [
    "1. <b> What are we predicting? feature and label? </b>\n",
    "    * We will be predicting emotions through text. This will be a kind of sentiment analysis problem. The label are five classes including \"sadness\", \"joy\", \"anger\", \"fear\", \"love\" and \"surprise\". The feature is the Text column that provides input that the model will extract from to classify into one of these labels.\n",
    "2. <b> Why is this problem important? What business or real-life problems can be solved using this technique? </b>\n",
    "    * This problem is crucial in business context including understanding customer experinece with company products or services through feedback. From that improve those services to attract more customers or prevent churn. Further, this text classification technique in NLP can be applied in market research such as studying social media users interation and trend, online therepy industry, financial services such as predicting stocks through news, and more. "
   ]
  },
  {
   "cell_type": "markdown",
   "metadata": {},
   "source": [
    "## Part 3: Explore Data"
   ]
  },
  {
   "cell_type": "code",
   "execution_count": 4,
   "metadata": {},
   "outputs": [
    {
     "data": {
      "text/plain": [
       "array(['sadness', 'anger', 'love', 'surprise', 'fear', 'joy'],\n",
       "      dtype=object)"
      ]
     },
     "execution_count": 4,
     "metadata": {},
     "output_type": "execute_result"
    }
   ],
   "source": [
    "# YOUR CODE HERE\n",
    "\n",
    "train_df['Emotion'].unique()"
   ]
  },
  {
   "cell_type": "code",
   "execution_count": 5,
   "metadata": {},
   "outputs": [
    {
     "data": {
      "text/html": [
       "<div>\n",
       "<style scoped>\n",
       "    .dataframe tbody tr th:only-of-type {\n",
       "        vertical-align: middle;\n",
       "    }\n",
       "\n",
       "    .dataframe tbody tr th {\n",
       "        vertical-align: top;\n",
       "    }\n",
       "\n",
       "    .dataframe thead th {\n",
       "        text-align: right;\n",
       "    }\n",
       "</style>\n",
       "<table border=\"1\" class=\"dataframe\">\n",
       "  <thead>\n",
       "    <tr style=\"text-align: right;\">\n",
       "      <th></th>\n",
       "      <th>Text</th>\n",
       "      <th>Emotion</th>\n",
       "    </tr>\n",
       "  </thead>\n",
       "  <tbody>\n",
       "    <tr>\n",
       "      <th>count</th>\n",
       "      <td>16000</td>\n",
       "      <td>16000</td>\n",
       "    </tr>\n",
       "    <tr>\n",
       "      <th>unique</th>\n",
       "      <td>15969</td>\n",
       "      <td>6</td>\n",
       "    </tr>\n",
       "    <tr>\n",
       "      <th>top</th>\n",
       "      <td>i feel on the verge of tears from weariness i ...</td>\n",
       "      <td>joy</td>\n",
       "    </tr>\n",
       "    <tr>\n",
       "      <th>freq</th>\n",
       "      <td>2</td>\n",
       "      <td>5362</td>\n",
       "    </tr>\n",
       "  </tbody>\n",
       "</table>\n",
       "</div>"
      ],
      "text/plain": [
       "                                                     Text Emotion\n",
       "count                                               16000   16000\n",
       "unique                                              15969       6\n",
       "top     i feel on the verge of tears from weariness i ...     joy\n",
       "freq                                                    2    5362"
      ]
     },
     "execution_count": 5,
     "metadata": {},
     "output_type": "execute_result"
    }
   ],
   "source": [
    "train_df.describe()"
   ]
  },
  {
   "cell_type": "code",
   "execution_count": 6,
   "metadata": {},
   "outputs": [
    {
     "data": {
      "text/html": [
       "<div>\n",
       "<style scoped>\n",
       "    .dataframe tbody tr th:only-of-type {\n",
       "        vertical-align: middle;\n",
       "    }\n",
       "\n",
       "    .dataframe tbody tr th {\n",
       "        vertical-align: top;\n",
       "    }\n",
       "\n",
       "    .dataframe thead th {\n",
       "        text-align: right;\n",
       "    }\n",
       "</style>\n",
       "<table border=\"1\" class=\"dataframe\">\n",
       "  <thead>\n",
       "    <tr style=\"text-align: right;\">\n",
       "      <th></th>\n",
       "      <th>Text</th>\n",
       "      <th>Emotion</th>\n",
       "    </tr>\n",
       "  </thead>\n",
       "  <tbody>\n",
       "    <tr>\n",
       "      <th>count</th>\n",
       "      <td>2000</td>\n",
       "      <td>2000</td>\n",
       "    </tr>\n",
       "    <tr>\n",
       "      <th>unique</th>\n",
       "      <td>2000</td>\n",
       "      <td>6</td>\n",
       "    </tr>\n",
       "    <tr>\n",
       "      <th>top</th>\n",
       "      <td>im feeling rather rotten so im not very ambiti...</td>\n",
       "      <td>joy</td>\n",
       "    </tr>\n",
       "    <tr>\n",
       "      <th>freq</th>\n",
       "      <td>1</td>\n",
       "      <td>695</td>\n",
       "    </tr>\n",
       "  </tbody>\n",
       "</table>\n",
       "</div>"
      ],
      "text/plain": [
       "                                                     Text Emotion\n",
       "count                                                2000    2000\n",
       "unique                                               2000       6\n",
       "top     im feeling rather rotten so im not very ambiti...     joy\n",
       "freq                                                    1     695"
      ]
     },
     "execution_count": 6,
     "metadata": {},
     "output_type": "execute_result"
    }
   ],
   "source": [
    "test_df.describe()"
   ]
  },
  {
   "cell_type": "code",
   "execution_count": 7,
   "metadata": {},
   "outputs": [
    {
     "data": {
      "text/html": [
       "<div>\n",
       "<style scoped>\n",
       "    .dataframe tbody tr th:only-of-type {\n",
       "        vertical-align: middle;\n",
       "    }\n",
       "\n",
       "    .dataframe tbody tr th {\n",
       "        vertical-align: top;\n",
       "    }\n",
       "\n",
       "    .dataframe thead th {\n",
       "        text-align: right;\n",
       "    }\n",
       "</style>\n",
       "<table border=\"1\" class=\"dataframe\">\n",
       "  <thead>\n",
       "    <tr style=\"text-align: right;\">\n",
       "      <th></th>\n",
       "      <th>Text</th>\n",
       "      <th>Emotion</th>\n",
       "    </tr>\n",
       "  </thead>\n",
       "  <tbody>\n",
       "    <tr>\n",
       "      <th>count</th>\n",
       "      <td>2000</td>\n",
       "      <td>2000</td>\n",
       "    </tr>\n",
       "    <tr>\n",
       "      <th>unique</th>\n",
       "      <td>1998</td>\n",
       "      <td>6</td>\n",
       "    </tr>\n",
       "    <tr>\n",
       "      <th>top</th>\n",
       "      <td>i feel so tortured by it</td>\n",
       "      <td>joy</td>\n",
       "    </tr>\n",
       "    <tr>\n",
       "      <th>freq</th>\n",
       "      <td>2</td>\n",
       "      <td>704</td>\n",
       "    </tr>\n",
       "  </tbody>\n",
       "</table>\n",
       "</div>"
      ],
      "text/plain": [
       "                            Text Emotion\n",
       "count                       2000    2000\n",
       "unique                      1998       6\n",
       "top     i feel so tortured by it     joy\n",
       "freq                           2     704"
      ]
     },
     "execution_count": 7,
     "metadata": {},
     "output_type": "execute_result"
    }
   ],
   "source": [
    "val_df.describe()"
   ]
  },
  {
   "cell_type": "code",
   "execution_count": 8,
   "metadata": {},
   "outputs": [
    {
     "data": {
      "text/plain": [
       "joy         5362\n",
       "sadness     4666\n",
       "anger       2159\n",
       "fear        1937\n",
       "love        1304\n",
       "surprise     572\n",
       "Name: Emotion, dtype: int64"
      ]
     },
     "execution_count": 8,
     "metadata": {},
     "output_type": "execute_result"
    }
   ],
   "source": [
    "train_df['Emotion'].value_counts()"
   ]
  },
  {
   "cell_type": "code",
   "execution_count": 9,
   "metadata": {},
   "outputs": [
    {
     "data": {
      "text/html": [
       "<div>\n",
       "<style scoped>\n",
       "    .dataframe tbody tr th:only-of-type {\n",
       "        vertical-align: middle;\n",
       "    }\n",
       "\n",
       "    .dataframe tbody tr th {\n",
       "        vertical-align: top;\n",
       "    }\n",
       "\n",
       "    .dataframe thead th {\n",
       "        text-align: right;\n",
       "    }\n",
       "</style>\n",
       "<table border=\"1\" class=\"dataframe\">\n",
       "  <thead>\n",
       "    <tr style=\"text-align: right;\">\n",
       "      <th></th>\n",
       "      <th>Text</th>\n",
       "      <th>Emotion</th>\n",
       "    </tr>\n",
       "  </thead>\n",
       "  <tbody>\n",
       "    <tr>\n",
       "      <th>0</th>\n",
       "      <td>i didnt feel humiliated</td>\n",
       "      <td>sadness</td>\n",
       "    </tr>\n",
       "    <tr>\n",
       "      <th>1</th>\n",
       "      <td>i can go from feeling so hopeless to so damned...</td>\n",
       "      <td>sadness</td>\n",
       "    </tr>\n",
       "    <tr>\n",
       "      <th>2</th>\n",
       "      <td>im grabbing a minute to post i feel greedy wrong</td>\n",
       "      <td>anger</td>\n",
       "    </tr>\n",
       "    <tr>\n",
       "      <th>3</th>\n",
       "      <td>i am ever feeling nostalgic about the fireplac...</td>\n",
       "      <td>love</td>\n",
       "    </tr>\n",
       "    <tr>\n",
       "      <th>4</th>\n",
       "      <td>i am feeling grouchy</td>\n",
       "      <td>anger</td>\n",
       "    </tr>\n",
       "    <tr>\n",
       "      <th>...</th>\n",
       "      <td>...</td>\n",
       "      <td>...</td>\n",
       "    </tr>\n",
       "    <tr>\n",
       "      <th>19995</th>\n",
       "      <td>im having ssa examination tomorrow in the morn...</td>\n",
       "      <td>sadness</td>\n",
       "    </tr>\n",
       "    <tr>\n",
       "      <th>19996</th>\n",
       "      <td>i constantly worry about their fight against n...</td>\n",
       "      <td>joy</td>\n",
       "    </tr>\n",
       "    <tr>\n",
       "      <th>19997</th>\n",
       "      <td>i feel its important to share this info for th...</td>\n",
       "      <td>joy</td>\n",
       "    </tr>\n",
       "    <tr>\n",
       "      <th>19998</th>\n",
       "      <td>i truly feel that if you are passionate enough...</td>\n",
       "      <td>joy</td>\n",
       "    </tr>\n",
       "    <tr>\n",
       "      <th>19999</th>\n",
       "      <td>i feel like i just wanna buy any cute make up ...</td>\n",
       "      <td>joy</td>\n",
       "    </tr>\n",
       "  </tbody>\n",
       "</table>\n",
       "<p>20000 rows × 2 columns</p>\n",
       "</div>"
      ],
      "text/plain": [
       "                                                    Text  Emotion\n",
       "0                                i didnt feel humiliated  sadness\n",
       "1      i can go from feeling so hopeless to so damned...  sadness\n",
       "2       im grabbing a minute to post i feel greedy wrong    anger\n",
       "3      i am ever feeling nostalgic about the fireplac...     love\n",
       "4                                   i am feeling grouchy    anger\n",
       "...                                                  ...      ...\n",
       "19995  im having ssa examination tomorrow in the morn...  sadness\n",
       "19996  i constantly worry about their fight against n...      joy\n",
       "19997  i feel its important to share this info for th...      joy\n",
       "19998  i truly feel that if you are passionate enough...      joy\n",
       "19999  i feel like i just wanna buy any cute make up ...      joy\n",
       "\n",
       "[20000 rows x 2 columns]"
      ]
     },
     "execution_count": 9,
     "metadata": {},
     "output_type": "execute_result"
    }
   ],
   "source": [
    "merged_df = pd.concat([train_df,test_df, val_df], ignore_index = True)\n",
    "\n",
    "merged_df"
   ]
  },
  {
   "cell_type": "code",
   "execution_count": 10,
   "metadata": {},
   "outputs": [
    {
     "data": {
      "text/plain": [
       "joy         6761\n",
       "sadness     5797\n",
       "anger       2709\n",
       "fear        2373\n",
       "love        1641\n",
       "surprise     719\n",
       "Name: Emotion, dtype: int64"
      ]
     },
     "execution_count": 10,
     "metadata": {},
     "output_type": "execute_result"
    }
   ],
   "source": [
    "merged_df['Emotion'].value_counts()"
   ]
  },
  {
   "cell_type": "code",
   "execution_count": 23,
   "metadata": {
    "scrolled": true
   },
   "outputs": [
    {
     "data": {
      "image/png": "[encoded data removed]",
      "text/plain": [
       "<Figure size 1000x600 with 1 Axes>"
      ]
     },
     "metadata": {},
     "output_type": "display_data"
    },
    {
     "data": {
      "image/png": "[encoded data removed]",
      "text/plain": [
       "<Figure size 1000x600 with 1 Axes>"
      ]
     },
     "metadata": {},
     "output_type": "display_data"
    }
   ],
   "source": [
    "from keras.models import Sequential\n",
    "from keras.layers import Embedding, LSTM, Dense, SpatialDropout1D \n",
    "# from keras.utils import to_categorical \n",
    "from keras.preprocessing.text import Tokenizer\n",
    "\n",
    "X = merged_df['Text']\n",
    "y = merged_df['Emotion']\n",
    "\n",
    "tokenizer = Tokenizer()\n",
    "tokenizer.fit_on_texts(X)\n",
    "sequences = tokenizer.texts_to_sequences(X)\n",
    "\n",
    "#Analyse vocabulary size\n",
    "word_counts = tokenizer.word_counts\n",
    "word_counts = sorted(word_counts.items(), key=lambda x: x[1], reverse=True)\n",
    "\n",
    "# plot word frequency distribution\n",
    "word_freqs = [count for word, count in word_counts]\n",
    "plt.figure(figsize=(10, 6))\n",
    "plt.plot(word_freqs)\n",
    "plt.yscale('log')\n",
    "plt.title('Word Frequency Distribution')\n",
    "plt.xlabel('Rank')\n",
    "plt.ylabel('Frequency')\n",
    "plt.show()\n",
    "\n",
    "# Analyse sequence lengths\n",
    "sequence_lengths = [len(seq) for seq in sequences]\n",
    "plt.figure(figsize=(10, 6))\n",
    "plt.hist(sequence_lengths, bins=50)\n",
    "plt.title('Sequence Length Distribution')\n",
    "plt.xlabel('Sequence Length')\n",
    "plt.ylabel('Frequency')\n",
    "plt.show()"
   ]
  },
  {
   "cell_type": "markdown",
   "metadata": {},
   "source": [
    "### Plot 1:\n",
    "* We can see that there are only about 7000-8000 words that have high frequency, or appear more often compare to the rest in the data\n",
    "### Plot 2:\n",
    "* The longest sentence or text is about 60-70 words, and the longer a sentence is, the less frequent it is in the dataset"
   ]
  },
  {
   "cell_type": "markdown",
   "metadata": {},
   "source": [
    "## Part 4: Implement ML models"
   ]
  },
  {
   "cell_type": "markdown",
   "metadata": {},
   "source": [
    "# 1. Logistic Regresison"
   ]
  },
  {
   "cell_type": "code",
   "execution_count": null,
   "metadata": {
    "scrolled": true
   },
   "outputs": [],
   "source": [
    "from sklearn.model_selection import KFold, GridSearchCV\n",
    "from sklearn.metrics import accuracy_score, classification_report, confusion_matrix \n",
    "from sklearn.linear_model import LogisticRegression\n",
    "from sklearn.feature_extraction.text import CountVectorizer \n",
    "from sklearn.feature_extraction.text import TfidfVectorizer\n",
    "from sklearn.model_selection import train_test_split\n",
    "from sklearn.linear_model import RidgeClassifier\n",
    "\n",
    "\n",
    "X = merged_df['Text']\n",
    "y = merged_df['Emotion']\n",
    "\n",
    "X_train, X_test, y_train, y_test = train_test_split(X, y, test_size = 0.3, random_state = 123)\n",
    "\n",
    "tfidf_vectorizer = TfidfVectorizer(ngram_range=(1,2),stop_words = 'english') \n",
    "X_train_tfidf = tfidf_vectorizer.fit_transform(X_train)\n",
    "X_test_tfidf = tfidf_vectorizer.transform(X_test)\n",
    "\n",
    "\n",
    "#train LR model:\n",
    "lg_model = LogisticRegression(max_iter = 100)\n",
    "lg_model.fit(X_train_tfidf, y_train)\n",
    "\n",
    "lg_pred_train = lg_model.predict(X_train_tfidf)\n",
    "lg_acc_train = accuracy_score(y_train, lg_pred_train)\n",
    "\n",
    "print(\"Logistic Regression on Training Data:\")\n",
    "print(classification_report(y_train, lg_pred_train))\n",
    "print(f\"Logistic Regression Accuracy (Training): {lg_acc_train}\")\n",
    "\n",
    "lg_pred_test = lg_model.predict(X_test_tfidf)\n",
    "lg_acc_test = accuracy_score(y_test, lg_pred_test)\n",
    "\n",
    "print(\"\\nLogistic Regression on Testing Data:\")\n",
    "print(classification_report(y_test, lg_pred_test))\n",
    "print(f\"Logistic Regression Accuracy (Testing): {lg_acc_test}\")"
   ]
  },
  {
   "cell_type": "markdown",
   "metadata": {},
   "source": [
    "## Logistic Regression Predictions"
   ]
  },
  {
   "cell_type": "code",
   "execution_count": 13,
   "metadata": {},
   "outputs": [
    {
     "name": "stdout",
     "output_type": "stream",
     "text": [
      "Logistic Regression Predictions:\n",
      "                                                    Text True Label  \\\n",
      "12136  i feel bedroom rockers and hardcore music buff...        joy   \n",
      "16812  i go again sometime in the future id probably ...        joy   \n",
      "10072  i just got a whole pile of presents so im feel...        joy   \n",
      "5850   i feel like a dangerous animal as i prowl out ...      anger   \n",
      "4320   i quite like to do it standing on public trans...    sadness   \n",
      "4429   i am left feeling happy about having the time ...        joy   \n",
      "11744  i was feeling threatened that it might be take...       fear   \n",
      "12106    im feeling a bit frustrated with myself tonight      anger   \n",
      "4230   i feel any artist that puts forth a piece of w...        joy   \n",
      "16858                   i feel like i just doomed myself    sadness   \n",
      "\n",
      "      Predicted Label  \n",
      "12136             joy  \n",
      "16812             joy  \n",
      "10072             joy  \n",
      "5850            anger  \n",
      "4320          sadness  \n",
      "4429              joy  \n",
      "11744            fear  \n",
      "12106           anger  \n",
      "4230              joy  \n",
      "16858         sadness  \n"
     ]
    }
   ],
   "source": [
    "# Logistic Regression prediction examples: \n",
    "\n",
    "lg_results = pd.DataFrame({\n",
    "    'Text': X_test,\n",
    "    'True Label': y_test,\n",
    "    'Predicted Label': lg_pred_test\n",
    "})\n",
    "\n",
    "print(\"Logistic Regression Predictions:\")\n",
    "print(lg_results.head(10))"
   ]
  },
  {
   "cell_type": "code",
   "execution_count": 14,
   "metadata": {},
   "outputs": [],
   "source": [
    "# from sklearn.model_selection import GridSearchCV, train_test_split\n",
    "# from sklearn.metrics import accuracy_score, classification_report, confusion_matrix \n",
    "# from sklearn.linear_model import LogisticRegression\n",
    "# from sklearn.feature_extraction.text import TfidfVectorizer\n",
    "# from sklearn.preprocessing import StandardScaler\n",
    "# import matplotlib.pyplot as plt\n",
    "# import seaborn as sns\n",
    "\n",
    "# # Prepare data\n",
    "# X = merged_df['Text']\n",
    "# y = merged_df['Emotion']\n",
    "\n",
    "# # Split data into training and testing sets\n",
    "# X_train, X_test, y_train, y_test = train_test_split(X, y, test_size=0.2, random_state=123)\n",
    "\n",
    "# # Encode text data with TF-IDF vectorizer\n",
    "# tfidf_vectorizer = TfidfVectorizer(ngram_range=(1, 2), stop_words='english')\n",
    "# X_train_tfidf = tfidf_vectorizer.fit_transform(X_train)\n",
    "# X_test_tfidf = tfidf_vectorizer.transform(X_test)\n",
    "\n",
    "# # Standardize the data\n",
    "# scaler = StandardScaler(with_mean=False)  # With sparse matrices, 'with_mean' should be False\n",
    "# X_train_tfidf = scaler.fit_transform(X_train_tfidf)\n",
    "# X_test_tfidf = scaler.transform(X_test_tfidf)\n",
    "\n",
    "# # Hyperparameter tuning for Logistic Regression\n",
    "# param_grid = {\n",
    "#     'C': [1, 10, 100, 300],  # Regularization strength\n",
    "#     'penalty': ['l1', 'l2'],  # Regularization type\n",
    "#     'solver': ['liblinear', 'saga']  # Solver for 'l1' or 'l2' penalty\n",
    "# }\n",
    "\n",
    "# grid_search = GridSearchCV(LogisticRegression(max_iter=10000), param_grid, cv=5, scoring='accuracy', n_jobs=-1)\n",
    "# grid_search.fit(X_train_tfidf, y_train)\n",
    "\n",
    "# # Get the best model from grid search\n",
    "# best_lg_model = grid_search.best_estimator_\n",
    "# lg_pred_train = best_lg_model.predict(X_train_tfidf)\n",
    "# lg_pred_test = best_lg_model.predict(X_test_tfidf)\n",
    "\n",
    "# # Evaluate on training data\n",
    "# lg_acc_train = accuracy_score(y_train, lg_pred_train)\n",
    "# print(\"Best Logistic Regression Model on Training Data:\")\n",
    "# print(classification_report(y_train, lg_pred_train))\n",
    "# print(f\"Logistic Regression Accuracy (Training): {lg_acc_train}\")\n",
    "\n",
    "# # Evaluate on testing data\n",
    "# lg_acc_test = accuracy_score(y_test, lg_pred_test)\n",
    "# print(\"\\nBest Logistic Regression Model on Testing Data:\")\n",
    "# print(classification_report(y_test, lg_pred_test))\n",
    "# print(f\"Logistic Regression Accuracy (Testing): {lg_acc_test}\")\n",
    "\n",
    "# # Display best parameters and cross-validation results\n",
    "# print(\"Best Parameters:\", grid_search.best_params_)\n",
    "# print(\"Best Cross-validation Accuracy:\", grid_search.best_score_)\n"
   ]
  },
  {
   "cell_type": "markdown",
   "metadata": {},
   "source": [
    "## Method:\n",
    "* We define X feature is \"Text\" column, and y label is \"Emotion\" column\n",
    "* We split data into 30% training, 70% testing\n",
    "* Preprocessing text: \n",
    "* Apply TF-IDF: weight the importance of words based on their frequency and distribution in the corpus\n",
    "* We first use TF-IDF Vectorizer fit on training data, then transform both training and testing data to ensure consistent features\n",
    "* Apply ngrams: capture more contexts and word dependencies in the input text\n",
    "* Apply stop-words: remove unnecessary words in the input text \n",
    "## Result\n",
    "* Use classification-report: show details evaluation methods to compare on different metrics such as precision score, recall, f1-score, support and accuracy\n",
    "* Final Accuracy: 87%"
   ]
  },
  {
   "cell_type": "markdown",
   "metadata": {},
   "source": [
    "# 2. LSTM "
   ]
  },
  {
   "cell_type": "code",
   "execution_count": 24,
   "metadata": {
    "scrolled": true
   },
   "outputs": [
    {
     "name": "stdout",
     "output_type": "stream",
     "text": [
      "Epoch 1/5\n",
      "438/438 [==============================] - 19s 40ms/step - loss: 1.2501 - accuracy: 0.5180\n",
      "Epoch 2/5\n",
      "438/438 [==============================] - 17s 40ms/step - loss: 0.3760 - accuracy: 0.8863\n",
      "Epoch 3/5\n",
      "438/438 [==============================] - 17s 40ms/step - loss: 0.1792 - accuracy: 0.9409\n",
      "Epoch 4/5\n",
      "438/438 [==============================] - 17s 40ms/step - loss: 0.1172 - accuracy: 0.9604\n",
      "Epoch 5/5\n",
      "438/438 [==============================] - 17s 40ms/step - loss: 0.0900 - accuracy: 0.9673\n",
      "LSTM:\n",
      "              precision    recall  f1-score   support\n",
      "\n",
      "       anger       0.90      0.94      0.92       757\n",
      "        fear       0.92      0.87      0.89       717\n",
      "         joy       0.95      0.93      0.94      2092\n",
      "        love       0.79      0.86      0.82       498\n",
      "     sadness       0.97      0.96      0.96      1750\n",
      "    surprise       0.79      0.80      0.79       186\n",
      "\n",
      "    accuracy                           0.92      6000\n",
      "   macro avg       0.88      0.89      0.89      6000\n",
      "weighted avg       0.92      0.92      0.92      6000\n",
      "\n",
      "LSTM Accuracy: 0.9233333333333333\n"
     ]
    }
   ],
   "source": [
    "from tensorflow.keras.preprocessing.text import Tokenizer\n",
    "from sklearn.preprocessing import LabelEncoder\n",
    "from tensorflow.keras.preprocessing.sequence import pad_sequences\n",
    "from tensorflow.keras.utils import to_categorical\n",
    "from tensorflow.keras.models import Sequential\n",
    "from tensorflow.keras.layers import Embedding, LSTM, Dense, SpatialDropout1D\n",
    "\n",
    "#based on plots\n",
    "max_words = 8000\n",
    "max_len = 70\n",
    "\n",
    "tokenizer = Tokenizer(num_words = max_words) #limit number of words\n",
    "tokenizer.fit_on_texts(X)\n",
    "\n",
    "X_train_seq = tokenizer.texts_to_sequences(X_train)\n",
    "X_test_seq = tokenizer.texts_to_sequences(X_test)\n",
    "X_train_padded = pad_sequences(X_train_seq, maxlen = max_len)\n",
    "X_test_padded = pad_sequences(X_test_seq, maxlen = max_len)\n",
    "\n",
    "# encode labels\n",
    "label_encoder = LabelEncoder()\n",
    "y_train_encoded = label_encoder.fit_transform(y_train)\n",
    "y_test_encoded = label_encoder.fit_transform(y_test)\n",
    "y_train_categorical = to_categorical(y_train_encoded)\n",
    "y_test_categorical = to_categorical(y_test_encoded)\n",
    "\n",
    "#Create LSTM model\n",
    "def lstm_model(input_length, vocab_size, num_classes):\n",
    "    model = Sequential()\n",
    "    model.add(Embedding(input_dim= vocab_size, output_dim = 100, input_length = input_length))\n",
    "    model.add(SpatialDropout1D(0.2))\n",
    "    model.add(LSTM(100, dropout = 0.2, recurrent_dropout= 0.2))\n",
    "    model.add(Dense(num_classes, activation = 'softmax'))\n",
    "    model.compile(loss = 'categorical_crossentropy', optimizer = 'adam', metrics = ['accuracy'])\n",
    "    return model \n",
    "\n",
    "vocab_size = max_words\n",
    "input_length = max_len\n",
    "num_classes = y_train_categorical.shape[1]\n",
    "\n",
    "lstm = lstm_model(input_length, vocab_size, num_classes)\n",
    "lstm.fit(X_train_padded, y_train_categorical, epochs = 5, batch_size = 32, verbose = 1)\n",
    "\n",
    "#convert from encoded label back to str format\n",
    "lstm_pred = np.argmax(lstm.predict(X_test_padded), axis = 1)\n",
    "\n",
    "lstm_acc = accuracy_score(y_test_encoded, lstm_pred)\n",
    "\n",
    "print(\"LSTM:\")\n",
    "print(classification_report(y_test_encoded, lstm_pred, target_names=label_encoder.classes_))\n",
    "print(f\"LSTM Accuracy: {lstm_acc}\")\n"
   ]
  },
  {
   "cell_type": "markdown",
   "metadata": {},
   "source": [
    "## LSTM Predictions"
   ]
  },
  {
   "cell_type": "code",
   "execution_count": 16,
   "metadata": {},
   "outputs": [
    {
     "name": "stdout",
     "output_type": "stream",
     "text": [
      "LSTM:\n",
      "              precision    recall  f1-score   support\n",
      "\n",
      "       anger       0.91      0.92      0.91       757\n",
      "        fear       0.89      0.88      0.88       717\n",
      "         joy       0.93      0.94      0.94      2092\n",
      "        love       0.81      0.84      0.82       498\n",
      "     sadness       0.98      0.95      0.96      1750\n",
      "    surprise       0.72      0.81      0.76       186\n",
      "\n",
      "    accuracy                           0.92      6000\n",
      "   macro avg       0.87      0.89      0.88      6000\n",
      "weighted avg       0.92      0.92      0.92      6000\n",
      "\n",
      "LSTM Accuracy: 0.9196666666666666\n",
      "LSTM Predictions:\n",
      "                                                    Text True Label  \\\n",
      "12136  i feel bedroom rockers and hardcore music buff...        joy   \n",
      "16812  i go again sometime in the future id probably ...        joy   \n",
      "10072  i just got a whole pile of presents so im feel...        joy   \n",
      "5850   i feel like a dangerous animal as i prowl out ...      anger   \n",
      "4320   i quite like to do it standing on public trans...    sadness   \n",
      "4429   i am left feeling happy about having the time ...        joy   \n",
      "11744  i was feeling threatened that it might be take...       fear   \n",
      "12106    im feeling a bit frustrated with myself tonight      anger   \n",
      "4230   i feel any artist that puts forth a piece of w...        joy   \n",
      "16858                   i feel like i just doomed myself    sadness   \n",
      "\n",
      "      Predicted Label  \n",
      "12136             joy  \n",
      "16812             joy  \n",
      "10072             joy  \n",
      "5850            anger  \n",
      "4320          sadness  \n",
      "4429              joy  \n",
      "11744            fear  \n",
      "12106           anger  \n",
      "4230              joy  \n",
      "16858         sadness  \n"
     ]
    }
   ],
   "source": [
    "#convert labels back to string format \n",
    "lstm_pred_test = np.argmax(lstm.predict(X_test_padded), axis=1)\n",
    "lstm_pred_labels = label_encoder.inverse_transform(lstm_pred_test)\n",
    "y_test_labels = label_encoder.inverse_transform(y_test_encoded)\n",
    "lstm_acc_test = accuracy_score(y_test_encoded, lstm_pred_test)\n",
    "\n",
    "print(\"LSTM:\")\n",
    "print(classification_report(y_test_encoded, lstm_pred_test, target_names=label_encoder.classes_))\n",
    "print(f\"LSTM Accuracy: {lstm_acc_test}\")\n",
    "\n",
    "# Create a dataframe to view the predictions\n",
    "lstm_results = pd.DataFrame({\n",
    "    'Text': X_test,\n",
    "    'True Label': y_test_labels,\n",
    "    'Predicted Label': lstm_pred_labels\n",
    "})\n",
    "\n",
    "# Display some examples\n",
    "print(\"LSTM Predictions:\")\n",
    "print(lstm_results.head(10))"
   ]
  },
  {
   "cell_type": "markdown",
   "metadata": {},
   "source": [
    "## Method:\n",
    "* Use the defined X feature is \"Text\" column, and y label is \"Emotion\" column\n",
    "* We use the same splitted data of 30% training, 70% testing\n",
    "+ Preprocessing text: \n",
    "* Tokenization: sequences of text into integers where each integer represents a word \n",
    "* Padding: make sure all sequences have the same length by padding shorter seuqences with zero\n",
    "* Label encode output text into numeric\n",
    "+ LSTM model:\n",
    "* Sequential model that contains several layers\n",
    "* Embedding layer: convert sequences into dense vectors with fixed size\n",
    "* LSTM layer: capture temporal dependencies of the data, also added dropout rate initialized by the dropout layer to prevent overfitting\n",
    "* Dense layer: output layer with 'softmax' activation function\n",
    "* Compile model using 'adam' optimizer \n",
    "## Result\n",
    "* Use classification-report: show details evaluation to compare on different metrics such as precision score, recall, f1-score, support and accuracy\n",
    "* Final Accuracy: 91%"
   ]
  },
  {
   "cell_type": "markdown",
   "metadata": {},
   "source": [
    "# 3. Compare Models "
   ]
  },
  {
   "cell_type": "code",
   "execution_count": 17,
   "metadata": {
    "scrolled": true
   },
   "outputs": [
    {
     "data": {
      "image/png": "[encoded data removed]",
      "text/plain": [
       "<Figure size 2600x1000 with 4 Axes>"
      ]
     },
     "metadata": {},
     "output_type": "display_data"
    }
   ],
   "source": [
    "lg_cm = confusion_matrix(y_test, lg_pred_test)\n",
    "lstm_cm = confusion_matrix(y_test_encoded, lstm_pred)\n",
    "\n",
    "fig, axes = plt.subplots(1, 2, figsize=(26, 10))\n",
    "\n",
    "sns.heatmap(lg_cm, annot=True, fmt='d', cmap='Blues', xticklabels=label_encoder.classes_, yticklabels=label_encoder.classes_, ax=axes[0])\n",
    "axes[0].set_title(\"Confusion Matrix for Logistic Regression\")\n",
    "axes[0].set_xlabel(\"Predicted\")\n",
    "axes[0].set_ylabel(\"Actual\")\n",
    "\n",
    "sns.heatmap(lstm_cm, annot=True, fmt='d', cmap='Blues', xticklabels=label_encoder.classes_, yticklabels=label_encoder.classes_, ax=axes[1])\n",
    "axes[1].set_title(\"Confusion Matrix for LSTM\")\n",
    "axes[1].set_xlabel(\"Predicted\")\n",
    "axes[1].set_ylabel(\"Actual\")\n",
    "\n",
    "plt.tight_layout()\n",
    "plt.show()"
   ]
  },
  {
   "cell_type": "markdown",
   "metadata": {},
   "source": [
    "## Discussion:\n",
    "* Accuracy: 87% (Logistic Regression) and 91% (LSTM). On the same data split and confusion matrix, we can see that LSTM works better than Logistic Regression in general.\n",
    "* However, noticed that there are cetain labels that both models predict better than others such as \"joy\" and \"sadness\". Looking back at the data analysis at the beginning, we can see that \"joy\" has 6761 and \"sadness\" has 5797 data while other labels have less than 3000 data, and \"surprise\" has the least with 719 data. This explains why both models perform well on some particular labels and not too well on others. "
   ]
  }
 ],
 "metadata": {
  "kernelspec": {
   "display_name": "Python 3 (ipykernel)",
   "language": "python",
   "name": "python3"
  },
  "language_info": {
   "codemirror_mode": {
    "name": "ipython",
    "version": 3
   },
   "file_extension": ".py",
   "mimetype": "text/x-python",
   "name": "python",
   "nbconvert_exporter": "python",
   "pygments_lexer": "ipython3",
   "version": "3.9.19"
  },
  "toc": {
   "base_numbering": 1,
   "nav_menu": {},
   "number_sections": false,
   "sideBar": true,
   "skip_h1_title": false,
   "title_cell": "Table of Contents",
   "title_sidebar": "Contents",
   "toc_cell": false,
   "toc_position": {},
   "toc_section_display": true,
   "toc_window_display": false
  },
  "varInspector": {
   "cols": {
    "lenName": 16,
    "lenType": 16,
    "lenVar": 40
   },
   "kernels_config": {
    "python": {
     "delete_cmd_postfix": "",
     "delete_cmd_prefix": "del ",
     "library": "var_list.py",
     "varRefreshCmd": "print(var_dic_list())"
    },
    "r": {
     "delete_cmd_postfix": ") ",
     "delete_cmd_prefix": "rm(",
     "library": "var_list.r",
     "varRefreshCmd": "cat(var_dic_list()) "
    }
   },
   "types_to_exclude": [
    "module",
    "function",
    "builtin_function_or_method",
    "instance",
    "_Feature"
   ],
   "window_display": false
  }
 },
 "nbformat": 4,
 "nbformat_minor": 4
}
